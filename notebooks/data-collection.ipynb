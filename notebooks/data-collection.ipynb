{
 "cells": [
  {
   "cell_type": "markdown",
   "id": "2e7ce37e",
   "metadata": {},
   "source": [
    "# Use nba_api.stats.endpoints to fetch stats"
   ]
  },
  {
   "cell_type": "markdown",
   "id": "09514dcc",
   "metadata": {},
   "source": [
    "## getting player season stats"
   ]
  },
  {
   "cell_type": "code",
   "execution_count": null,
   "id": "7d26f96c",
   "metadata": {},
   "outputs": [],
   "source": [
    "from nba_api.stats.endpoints import leaguedashplayerstats\n",
    "import pandas as pd\n",
    "\n",
    "# Get 2024-25 regular season player stats\n",
    "data = leaguedashplayerstats.LeagueDashPlayerStats(season='2024-25', season_type_all_star='Regular Season')\n",
    "df_players = data.get_data_frames()[0]\n",
    "\n",
    "df_players.to_csv('/Users/aidenballou/Desktop/NBA_Lineup_Optimization/NBA-Lineup-Optimizer/data/raw/player_stats_2024_25.csv', index=False)"
   ]
  },
  {
   "cell_type": "markdown",
   "id": "9ccecb5f",
   "metadata": {},
   "source": [
    "## getting lineup data"
   ]
  },
  {
   "cell_type": "code",
   "execution_count": 11,
   "id": "4844c002",
   "metadata": {},
   "outputs": [],
   "source": [
    "from nba_api.stats.endpoints import leaguedashlineups\n",
    "\n",
    "lineup_data = leaguedashlineups.LeagueDashLineups(group_quantity=5, season='2024-25', season_type_all_star='Regular Season')\n",
    "df_lineups = lineup_data.get_data_frames()[0]\n",
    "df_lineups.to_csv('/Users/aidenballou/Desktop/NBA_Lineup_Optimization/NBA-Lineup-Optimizer/data/raw/lineup_stats_2024_25.csv', index=False)"
   ]
  },
  {
   "cell_type": "markdown",
   "id": "2a65aaba",
   "metadata": {},
   "source": [
    "# Collect Team Game Logs"
   ]
  },
  {
   "cell_type": "code",
   "execution_count": 12,
   "id": "a26a8bae",
   "metadata": {},
   "outputs": [],
   "source": [
    "from nba_api.stats.endpoints import teamgamelog\n",
    "from nba_api.stats.static import teams\n",
    "\n",
    "nba_teams = teams.get_teams()\n",
    "\n",
    "# Example: get data for the Pacers\n",
    "team_id = [team for team in nba_teams if team['full_name'] == 'Indiana Pacers'][0]['id']\n",
    "\n",
    "gamelog = teamgamelog.TeamGameLog(team_id=team_id, season='2024-25', season_type_all_star='Regular Season')\n",
    "df_games = gamelog.get_data_frames()[0]\n",
    "\n",
    "df_games.to_csv(f'/Users/aidenballou/Desktop/NBA_Lineup_Optimization/NBA-Lineup-Optimizer/data/raw/pacers_game_log_2024_25.csv', index=False)"
   ]
  }
 ],
 "metadata": {
  "kernelspec": {
   "display_name": "venv",
   "language": "python",
   "name": "python3"
  },
  "language_info": {
   "codemirror_mode": {
    "name": "ipython",
    "version": 3
   },
   "file_extension": ".py",
   "mimetype": "text/x-python",
   "name": "python",
   "nbconvert_exporter": "python",
   "pygments_lexer": "ipython3",
   "version": "3.13.2"
  }
 },
 "nbformat": 4,
 "nbformat_minor": 5
}
